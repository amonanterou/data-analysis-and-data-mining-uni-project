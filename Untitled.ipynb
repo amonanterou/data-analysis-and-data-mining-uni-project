{
 "cells": [
  {
   "cell_type": "code",
   "execution_count": 1,
   "id": "2ccd53f1",
   "metadata": {},
   "outputs": [],
   "source": [
    "from sklearn.linear_model import LinearRegression\n",
    "import pandas as pd\n",
    "from sklearn.model_selection import cross_val_score"
   ]
  },
  {
   "cell_type": "code",
   "execution_count": 2,
   "id": "bc7b7f57",
   "metadata": {},
   "outputs": [],
   "source": [
    "# Load the data from the csv file\n",
    "df = pd.read_csv('insurance.csv')\n",
    "\n",
    "# Split the data into features (X) and target (y)\n",
    "X = df.drop('charges', axis=1)\n",
    "y = df['charges']\n",
    "\n",
    "# Change strings to numbers as follows\n",
    "# Sex: male -> 1, female -> 2\n",
    "# Smoker: yes -> 1, no -> 0\n",
    "# Region: northeast -> 1, northwest -> 2, southeast -> 3, southwest -> 4\n",
    "sex_mapping = {'male': 1, 'female': 2}\n",
    "smoker_mapping = {'yes': 1, 'no': 0}\n",
    "region_mapping = {'northeast': 1, 'northwest': 2, 'southeast': 3, 'southwest': 4}\n",
    "X = X.replace({'sex': sex_mapping, 'smoker': smoker_mapping, 'region': region_mapping})"
   ]
  },
  {
   "cell_type": "code",
   "execution_count": 3,
   "id": "ed43bf4b",
   "metadata": {},
   "outputs": [
    {
     "name": "stdout",
     "output_type": "stream",
     "text": [
      "[4337.79140492]\n"
     ]
    }
   ],
   "source": [
    "# Create a LinearRegression model\n",
    "model = LinearRegression()\n",
    "\n",
    "# Fit the model to the data\n",
    "model.fit(X, y)\n",
    "\n",
    "# Make predictions on new data\n",
    "pred_inst = pd.DataFrame([[30, 1, 25, 2, 0, 3]], columns=['age', 'sex', 'bmi', 'children', 'smoker', 'region'])\n",
    "predictions = model.predict(pred_inst)\n",
    "print(predictions)"
   ]
  },
  {
   "cell_type": "code",
   "execution_count": 4,
   "id": "e5afd37e",
   "metadata": {},
   "outputs": [
    {
     "name": "stdout",
     "output_type": "stream",
     "text": [
      "[0.78522549 0.73213924 0.73490618 0.67241306 0.7716613  0.78358383\n",
      " 0.79318159 0.67054582 0.74216232 0.76222839]\n"
     ]
    }
   ],
   "source": [
    "# Use 10-fold cross-validation to evaluate the model's performance\n",
    "scores = cross_val_score(model, X, y, cv=10)\n",
    "print(scores)"
   ]
  },
  {
   "cell_type": "code",
   "execution_count": 5,
   "id": "b8be084b",
   "metadata": {},
   "outputs": [
    {
     "name": "stdout",
     "output_type": "stream",
     "text": [
      "0.74 accuracy with a standard deviation of 0.04\n"
     ]
    }
   ],
   "source": [
    "print(\"%0.2f accuracy with a standard deviation of %0.2f\" % (scores.mean(), scores.std()))"
   ]
  },
  {
   "cell_type": "code",
   "execution_count": null,
   "id": "6a129539",
   "metadata": {},
   "outputs": [],
   "source": []
  }
 ],
 "metadata": {
  "kernelspec": {
   "display_name": "Python 3 (ipykernel)",
   "language": "python",
   "name": "python3"
  },
  "language_info": {
   "codemirror_mode": {
    "name": "ipython",
    "version": 3
   },
   "file_extension": ".py",
   "mimetype": "text/x-python",
   "name": "python",
   "nbconvert_exporter": "python",
   "pygments_lexer": "ipython3",
   "version": "3.9.12"
  }
 },
 "nbformat": 4,
 "nbformat_minor": 5
}
